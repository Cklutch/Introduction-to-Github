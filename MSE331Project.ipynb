{
  "nbformat": 4,
  "nbformat_minor": 0,
  "metadata": {
    "colab": {
      "provenance": []
    },
    "kernelspec": {
      "name": "python3",
      "display_name": "Python 3"
    },
    "language_info": {
      "name": "python"
    }
  },
  "cells": [
    {
      "cell_type": "code",
      "source": [
        "!pip install pulp"
      ],
      "metadata": {
        "colab": {
          "base_uri": "https://localhost:8080/"
        },
        "id": "iTASuteqfGS4",
        "outputId": "2c96821a-082c-4924-b341-96cf2ebff22f"
      },
      "execution_count": null,
      "outputs": [
        {
          "output_type": "stream",
          "name": "stdout",
          "text": [
            "Collecting pulp\n",
            "  Downloading PuLP-2.9.0-py3-none-any.whl.metadata (5.4 kB)\n",
            "Downloading PuLP-2.9.0-py3-none-any.whl (17.7 MB)\n",
            "\u001b[2K   \u001b[90m━━━━━━━━━━━━━━━━━━━━━━━━━━━━━━━━━━━━━━━━\u001b[0m \u001b[32m17.7/17.7 MB\u001b[0m \u001b[31m57.9 MB/s\u001b[0m eta \u001b[36m0:00:00\u001b[0m\n",
            "\u001b[?25hInstalling collected packages: pulp\n",
            "Successfully installed pulp-2.9.0\n"
          ]
        }
      ]
    },
    {
      "cell_type": "code",
      "execution_count": null,
      "metadata": {
        "id": "vAZS9CEgec9a"
      },
      "outputs": [],
      "source": [
        "import pulp"
      ]
    },
    {
      "cell_type": "code",
      "source": [
        "def solve_mip(objective_coeffs, inequalities, bounds, variable_types):\n",
        "\n",
        "    prob = pulp.LpProblem(\"MIP_Problem\", pulp.LpMaximize)\n",
        "\n",
        "    variables = []\n",
        "    for i, var_type in enumerate(variable_types):\n",
        "        lb, ub = bounds[i]\n",
        "        if var_type == \"Continuous\":\n",
        "            var = pulp.LpVariable(f\"x_{i}\", lb, ub, cat=\"Continuous\")\n",
        "        elif var_type == \"Integer\":\n",
        "            var = pulp.LpVariable(f\"x_{i}\", lb, ub, cat=\"Integer\")\n",
        "        elif var_type == \"Binary\":\n",
        "            var = pulp.LpVariable(f\"x_{i}\", 0, 1, cat=\"Binary\")\n",
        "        variables.append(var)\n",
        "\n",
        "    objective = pulp.lpSum([objective_coeffs[i] * variables[i] for i in range(len(objective_coeffs))])\n",
        "    prob += objective\n",
        "\n",
        "    for (coefficients, sense, rhs) in inequalities:\n",
        "        constraint_expr = pulp.lpSum([coefficients[i] * variables[i] for i in range(len(coefficients))])\n",
        "        if sense == \"<=\":\n",
        "            prob += (constraint_expr <= rhs)\n",
        "        elif sense == \">=\":\n",
        "            prob += (constraint_expr >= rhs)\n",
        "        elif sense == \"==\":\n",
        "            prob += (constraint_expr == rhs)\n",
        "\n",
        "    prob.solve()\n",
        "\n",
        "    solution_status = pulp.LpStatus[prob.status]\n",
        "    print(\"Solution Status:\", solution_status)\n",
        "\n",
        "    # Run diagnosis\n",
        "    # infeasible_constraints = diagnose_constraints(prob, prob.constraints.values())\n",
        "    # print(\"Potential infeasible constraints:\", infeasible_constraints)\n",
        "\n",
        "    solution = {v.name: v.varValue for v in variables}\n",
        "\n",
        "    return solution"
      ],
      "metadata": {
        "id": "exJyNoqbfKbd"
      },
      "execution_count": null,
      "outputs": []
    },
    {
      "cell_type": "code",
      "source": [
        "# Fixed cost of building a bus, tram, or subway line. (x1000)\n",
        "fixed_costs = [8000, 8000, 20000, 20000, 45000]\n",
        "\n",
        "# Cost of building a station for a bus, tram, or subway. (x1000)\n",
        "station_cost = [100, 100, 500, 500, 2000]\n",
        "\n",
        "# Population densities for each line. (ppl / km2)\n",
        "population_densities = [1800, 1200, 400, 1100, 2000, 1300, 600, 1100, 1100, 500, 1200, 1300, 2000]\n",
        "\n",
        "# Distance of lines in each district. (km)\n",
        "distances = [40, 32, 48, 35, 45, 32, 40, 29, 35, 24, 32, 29, 48]\n",
        "\n",
        "# Types of public transport.\n",
        "public_transport_types = ['bus1', 'bus2', 'tram', 'tram_ext', 'subway']\n",
        "\n",
        "# Cost per vehicle for each type. (x1000)\n",
        "transport_costs = [250, 300, 5000, 6000, 20000]\n",
        "\n",
        "# Capacities per each transport type.\n",
        "capacities = [40, 60, 150, 250, 300]\n",
        "\n",
        "# Speed of each vehicle. (km/h)\n",
        "vehicle_speeds = [25, 25, 30, 30, 50]\n",
        "\n",
        "# Emissions for each vehicle. (CO2 / passanger-km)\n",
        "vehicle_emissions = [0.2, 0.2, 0.1, 0.1, 0.05]\n",
        "\n",
        "# Area of each district. (km2)\n",
        "district_areas = [80, 75, 120, 70, 95, 85, 110, 65, 90, 50, 75, 70, 100]\n",
        "\n",
        "# The number of operating hours per day of each transport type.\n",
        "operating_hours = [8, 8, 10, 10, 12]\n",
        "\n",
        "# The percentage of people that prefer each type of transport.\n",
        "percentages = [0.3, 0.3, 0.2, 0.2, 0.5]\n",
        "\n",
        "# The total budget for the project. (x1000)\n",
        "total_budget = 5e6\n",
        "\n",
        "# Weights for the objective function (used to adimensionalize it).\n",
        "w1 = 0.7 # Weight for the density of stations\n",
        "w2 = 0.9 # Weight for the total capacity\n",
        "alpha = 0.4 # Weight for the total emissions\n",
        "betta = 1.2 # Weight for the total travel time\n",
        "\n",
        "# Coefficients for the objective function.\n",
        "objective_coeffs = []\n",
        "\n",
        "objective_coeffs.extend([w1 / district_areas[i] for i in range(13) for _ in range(5)])\n",
        "objective_coeffs.extend([w2 * capacities[m] / population_densities[i] for i in range(13) for m in range(5)])\n",
        "objective_coeffs.extend([0] * 65)\n",
        "objective_coeffs.extend([-betta * operating_hours[m] * population_densities[i] * district_areas[i] * percentages[m] * distances[i] / vehicle_speeds[m] -betta * operating_hours[m] * population_densities[i] * district_areas[i] * percentages[m] / 2 for i in range(13) for m in range(5)])\n",
        "objective_coeffs.extend([-alpha] * 65)\n",
        "\n",
        "# Constraints\n",
        "constraints = []\n",
        "\n",
        "# Cost constraint\n",
        "new_coefficients = (\n",
        "    [station_cost[m] for i in range(13) for m in range(5)] +\n",
        "    [transport_costs[m] for i in range(13) for m in range(5)] +\n",
        "    [fixed_costs[m] for i in range(13) for m in range(5)] +\n",
        "    [0] * 130\n",
        ")\n",
        "\n",
        "constraints.append((new_coefficients, \"<=\", total_budget))\n",
        "\n",
        "# 65 coeffs for s, 65 for v, 65 for y, 65 for f, 65 for e\n",
        "\n",
        "# No stations of that type can be built if line not built in district\n",
        "for i in range(65):\n",
        "  constraint_coefficients = [0] * 325\n",
        "  constraint_coefficients[i] = 1\n",
        "  constraint_coefficients[i + 130] = -1e3\n",
        "\n",
        "  constraints.append((constraint_coefficients, \"<=\", 0))\n",
        "\n",
        "# No vehicles of that type can be bought in that district if line not built in district\n",
        "for i in range(65):\n",
        "  constraint_coefficients = [0] * 325\n",
        "  constraint_coefficients[i + 65] = 1\n",
        "  constraint_coefficients[i + 130] = -1e3\n",
        "\n",
        "  constraints.append((constraint_coefficients, \"<=\", 0))\n",
        "\n",
        "k = 0\n",
        "for i in range(65):\n",
        "  constraint_coefficients = [0] * 325\n",
        "  constraint_coefficients[i] = 1\n",
        "  if i % 5 == 0 and i != 0:\n",
        "    k += 1\n",
        "  constraints.append((constraint_coefficients, \">=\", distances[k] / 5))\n",
        "\n",
        "k = 0\n",
        "for i in range(65):\n",
        "  constraint_coefficients = [0] * 325\n",
        "  constraint_coefficients[i] = 1\n",
        "  if i % 5 == 0 and i != 0:\n",
        "    k += 1\n",
        "  constraints.append((constraint_coefficients, \"<=\", distances[k] / 2))\n",
        "\n",
        "for i in range(13):\n",
        "  constraint_coefficients = [0] * 325\n",
        "  constraint_coefficients[i + 65] = capacities[0]\n",
        "  constraint_coefficients[i + 70] = capacities[1]\n",
        "  constraint_coefficients[i + 75] = capacities[2]\n",
        "  constraint_coefficients[i + 80] = capacities[3]\n",
        "  constraint_coefficients[i + 85] = capacities[4]\n",
        "\n",
        "  constraints.append((constraint_coefficients, \">=\", population_densities[i]))\n",
        "\n",
        "for i in range(52):\n",
        "  constraint_coefficients = [0] * 325\n",
        "  constraint_coefficients[i + 195] = 1\n",
        "  constraint_coefficients[i + 130] = -10 / 60\n",
        "\n",
        "  constraints.append((constraint_coefficients, \"<=\", 0))\n",
        "\n",
        "for i in range(52):\n",
        "  constraint_coefficients = [0] * 325\n",
        "  constraint_coefficients[i + 195] = 1\n",
        "  constraint_coefficients[i + 130] = -5 / 60\n",
        "\n",
        "  constraints.append((constraint_coefficients, \">=\", 0))\n",
        "\n",
        "for i in range(52, 65):\n",
        "  constraint_coefficients = [0] * 325\n",
        "  constraint_coefficients[i + 195] = 1\n",
        "  constraint_coefficients[i + 130] = -3 / 60\n",
        "\n",
        "  constraints.append((constraint_coefficients, \">=\", 0))\n",
        "\n",
        "for i in range(52, 65):\n",
        "  constraint_coefficients = [0] * 325\n",
        "  constraint_coefficients[i + 195] = 1\n",
        "  constraint_coefficients[i + 130] = -7 / 60\n",
        "\n",
        "  constraints.append((constraint_coefficients, \"<=\", 0))\n",
        "\n",
        "\n",
        "k = 0\n",
        "for i in range(65):\n",
        "  constraint_coefficients = [0] * 325\n",
        "  constraint_coefficients[i + 260] = 1\n",
        "  if i % 5 == 0 and i != 0:\n",
        "    k += 1\n",
        "  constraint_coefficients[i + 65] = -capacities[i % 5] * vehicle_emissions[i % 5] * distances[k]\n",
        "  constraints.append((constraint_coefficients, \"==\", 0))\n",
        "\n",
        "for i in range(0, 65, 5):\n",
        "  constraint_coefficients = [0] * 325\n",
        "  constraint_coefficients[i + 130] = 1\n",
        "  constraint_coefficients[i + 131] = 1\n",
        "  constraint_coefficients[i + 132] = 1\n",
        "  constraint_coefficients[i + 133] = 1\n",
        "  constraint_coefficients[i + 134] = 1\n",
        "\n",
        "  constraints.append((constraint_coefficients, \">=\", 1))\n",
        "\n",
        "for i in range(65):\n",
        "  constraint_coefficients = [0] * 325\n",
        "  constraint_coefficients[i] = -1\n",
        "  constraint_coefficients[i + 65] = 1\n",
        "\n",
        "  constraints.append((constraint_coefficients, \">=\", 0))\n",
        "\n",
        "bounds = []\n",
        "variable_types = []\n",
        "for i in range(130):\n",
        "  bounds.append((0, None))\n",
        "  variable_types.append(\"Integer\")\n",
        "\n",
        "for i in range(65):\n",
        "  bounds.append((0, 1))\n",
        "  variable_types.append(\"Binary\")\n",
        "\n",
        "for i in range(130):\n",
        "  bounds.append((0, None))\n",
        "  variable_types.append(\"Continuous\")"
      ],
      "metadata": {
        "id": "yWWqdCQffQrs"
      },
      "execution_count": null,
      "outputs": []
    },
    {
      "cell_type": "code",
      "source": [
        "print(\"Objective Coefficients:\", objective_coeffs[:10])\n",
        "print(\"First Constraint Example:\", constraints[0])\n",
        "print(\"Variable Bounds:\", bounds[:10])\n",
        "print(\"Variable Types:\", variable_types[:10])"
      ],
      "metadata": {
        "colab": {
          "base_uri": "https://localhost:8080/"
        },
        "id": "e6HmQgNNFMi-",
        "outputId": "dae2af11-f628-464b-c156-241ece8636bd"
      },
      "execution_count": null,
      "outputs": [
        {
          "output_type": "stream",
          "name": "stdout",
          "text": [
            "Objective Coefficients: [0.01875, 0.01875, 0.01875, 0.01875, 0.01875, 0.02, 0.02, 0.02, 0.02, 0.02]\n",
            "First Constraint Example: ([100, 100, 500, 500, 2000, 100, 100, 500, 500, 2000, 100, 100, 500, 500, 2000, 100, 100, 500, 500, 2000, 100, 100, 500, 500, 2000, 100, 100, 500, 500, 2000, 100, 100, 500, 500, 2000, 100, 100, 500, 500, 2000, 100, 100, 500, 500, 2000, 100, 100, 500, 500, 2000, 100, 100, 500, 500, 2000, 100, 100, 500, 500, 2000, 100, 100, 500, 500, 2000, 250, 300, 5000, 6000, 20000, 250, 300, 5000, 6000, 20000, 250, 300, 5000, 6000, 20000, 250, 300, 5000, 6000, 20000, 250, 300, 5000, 6000, 20000, 250, 300, 5000, 6000, 20000, 250, 300, 5000, 6000, 20000, 250, 300, 5000, 6000, 20000, 250, 300, 5000, 6000, 20000, 250, 300, 5000, 6000, 20000, 250, 300, 5000, 6000, 20000, 250, 300, 5000, 6000, 20000, 250, 300, 5000, 6000, 20000, 8000, 8000, 20000, 20000, 45000, 8000, 8000, 20000, 20000, 45000, 8000, 8000, 20000, 20000, 45000, 8000, 8000, 20000, 20000, 45000, 8000, 8000, 20000, 20000, 45000, 8000, 8000, 20000, 20000, 45000, 8000, 8000, 20000, 20000, 45000, 8000, 8000, 20000, 20000, 45000, 8000, 8000, 20000, 20000, 45000, 8000, 8000, 20000, 20000, 45000, 8000, 8000, 20000, 20000, 45000, 8000, 8000, 20000, 20000, 45000, 8000, 8000, 20000, 20000, 45000, 0, 0, 0, 0, 0, 0, 0, 0, 0, 0, 0, 0, 0, 0, 0, 0, 0, 0, 0, 0, 0, 0, 0, 0, 0, 0, 0, 0, 0, 0, 0, 0, 0, 0, 0, 0, 0, 0, 0, 0, 0, 0, 0, 0, 0, 0, 0, 0, 0, 0, 0, 0, 0, 0, 0, 0, 0, 0, 0, 0, 0, 0, 0, 0, 0, 0, 0, 0, 0, 0, 0, 0, 0, 0, 0, 0, 0, 0, 0, 0, 0, 0, 0, 0, 0, 0, 0, 0, 0, 0, 0, 0, 0, 0, 0, 0, 0, 0, 0, 0, 0, 0, 0, 0, 0, 0, 0, 0, 0, 0, 0, 0, 0, 0, 0, 0, 0, 0, 0, 0, 0, 0, 0, 0, 0, 0, 0, 0, 0, 0], '<=', 75000000)\n",
            "Variable Bounds: [(0, None), (0, None), (0, None), (0, None), (0, None), (0, None), (0, None), (0, None), (0, None), (0, None)]\n",
            "Variable Types: ['Integer', 'Integer', 'Integer', 'Integer', 'Integer', 'Integer', 'Integer', 'Integer', 'Integer', 'Integer']\n"
          ]
        }
      ]
    },
    {
      "cell_type": "code",
      "source": [
        "def diagnose_constraints(prob, constraints):\n",
        "    infeasible_constraints = []\n",
        "    for constraint in constraints:\n",
        "        # Temporarily remove the constraint\n",
        "        prob.constraints.pop(constraint.name)\n",
        "        prob.solve()\n",
        "\n",
        "        # Check if problem becomes feasible\n",
        "        if pulp.LpStatus[prob.status] == 'Optimal':\n",
        "            infeasible_constraints.append(constraint.name)\n",
        "        # Re-add the constraint\n",
        "        prob += constraint\n",
        "\n",
        "    return infeasible_constraints\n",
        "\n",
        "\n"
      ],
      "metadata": {
        "id": "u5xMmzGM6Seg"
      },
      "execution_count": null,
      "outputs": []
    },
    {
      "cell_type": "code",
      "source": [
        "solution = solve_mip(objective_coeffs, constraints, bounds, variable_types)\n",
        "\n",
        "print(\"Optimal solution:\", solution)"
      ],
      "metadata": {
        "colab": {
          "base_uri": "https://localhost:8080/"
        },
        "id": "S8u1HsU2EaO0",
        "outputId": "e5931413-bfa9-469d-b1b3-12fe4ce138cb"
      },
      "execution_count": null,
      "outputs": [
        {
          "output_type": "stream",
          "name": "stdout",
          "text": [
            "Solution Status: Optimal\n",
            "Optimal solution: {'x_0': 8.0, 'x_1': 8.0, 'x_2': 8.0, 'x_3': 8.0, 'x_4': 8.0, 'x_5': 7.0, 'x_6': 7.0, 'x_7': 7.0, 'x_8': 7.0, 'x_9': 7.0, 'x_10': 10.0, 'x_11': 10.0, 'x_12': 10.0, 'x_13': 10.0, 'x_14': 10.0, 'x_15': 7.0, 'x_16': 7.0, 'x_17': 7.0, 'x_18': 7.0, 'x_19': 7.0, 'x_20': 9.0, 'x_21': 9.0, 'x_22': 9.0, 'x_23': 9.0, 'x_24': 9.0, 'x_25': 7.0, 'x_26': 7.0, 'x_27': 7.0, 'x_28': 7.0, 'x_29': 7.0, 'x_30': 8.0, 'x_31': 8.0, 'x_32': 8.0, 'x_33': 8.0, 'x_34': 8.0, 'x_35': 6.0, 'x_36': 6.0, 'x_37': 6.0, 'x_38': 6.0, 'x_39': 6.0, 'x_40': 7.0, 'x_41': 7.0, 'x_42': 7.0, 'x_43': 7.0, 'x_44': 7.0, 'x_45': 5.0, 'x_46': 5.0, 'x_47': 5.0, 'x_48': 5.0, 'x_49': 5.0, 'x_50': 7.0, 'x_51': 7.0, 'x_52': 7.0, 'x_53': 7.0, 'x_54': 7.0, 'x_55': 6.0, 'x_56': 6.0, 'x_57': 6.0, 'x_58': 6.0, 'x_59': 6.0, 'x_60': 10.0, 'x_61': 10.0, 'x_62': 10.0, 'x_63': 10.0, 'x_64': 10.0, 'x_65': 8.0, 'x_66': 8.0, 'x_67': 8.0, 'x_68': 8.0, 'x_69': 8.0, 'x_70': 7.0, 'x_71': 7.0, 'x_72': 7.0, 'x_73': 7.0, 'x_74': 7.0, 'x_75': 10.0, 'x_76': 10.0, 'x_77': 10.0, 'x_78': 10.0, 'x_79': 10.0, 'x_80': 7.0, 'x_81': 7.0, 'x_82': 7.0, 'x_83': 7.0, 'x_84': 7.0, 'x_85': 9.0, 'x_86': 9.0, 'x_87': 9.0, 'x_88': 9.0, 'x_89': 9.0, 'x_90': 7.0, 'x_91': 7.0, 'x_92': 7.0, 'x_93': 7.0, 'x_94': 7.0, 'x_95': 8.0, 'x_96': 8.0, 'x_97': 8.0, 'x_98': 8.0, 'x_99': 8.0, 'x_100': 6.0, 'x_101': 6.0, 'x_102': 6.0, 'x_103': 6.0, 'x_104': 6.0, 'x_105': 7.0, 'x_106': 7.0, 'x_107': 7.0, 'x_108': 7.0, 'x_109': 7.0, 'x_110': 5.0, 'x_111': 5.0, 'x_112': 5.0, 'x_113': 5.0, 'x_114': 5.0, 'x_115': 7.0, 'x_116': 7.0, 'x_117': 7.0, 'x_118': 7.0, 'x_119': 7.0, 'x_120': 6.0, 'x_121': 6.0, 'x_122': 6.0, 'x_123': 6.0, 'x_124': 6.0, 'x_125': 10.0, 'x_126': 10.0, 'x_127': 10.0, 'x_128': 10.0, 'x_129': 10.0, 'x_130': 1.0, 'x_131': 1.0, 'x_132': 1.0, 'x_133': 1.0, 'x_134': 1.0, 'x_135': 1.0, 'x_136': 1.0, 'x_137': 1.0, 'x_138': 1.0, 'x_139': 1.0, 'x_140': 1.0, 'x_141': 1.0, 'x_142': 1.0, 'x_143': 1.0, 'x_144': 1.0, 'x_145': 1.0, 'x_146': 1.0, 'x_147': 1.0, 'x_148': 1.0, 'x_149': 1.0, 'x_150': 1.0, 'x_151': 1.0, 'x_152': 1.0, 'x_153': 1.0, 'x_154': 1.0, 'x_155': 1.0, 'x_156': 1.0, 'x_157': 1.0, 'x_158': 1.0, 'x_159': 1.0, 'x_160': 1.0, 'x_161': 1.0, 'x_162': 1.0, 'x_163': 1.0, 'x_164': 1.0, 'x_165': 1.0, 'x_166': 1.0, 'x_167': 1.0, 'x_168': 1.0, 'x_169': 1.0, 'x_170': 1.0, 'x_171': 1.0, 'x_172': 1.0, 'x_173': 1.0, 'x_174': 1.0, 'x_175': 1.0, 'x_176': 1.0, 'x_177': 1.0, 'x_178': 1.0, 'x_179': 1.0, 'x_180': 1.0, 'x_181': 1.0, 'x_182': 1.0, 'x_183': 1.0, 'x_184': 1.0, 'x_185': 1.0, 'x_186': 1.0, 'x_187': 1.0, 'x_188': 1.0, 'x_189': 1.0, 'x_190': 1.0, 'x_191': 1.0, 'x_192': 1.0, 'x_193': 1.0, 'x_194': 1.0, 'x_195': 0.083333333, 'x_196': 0.083333333, 'x_197': 0.083333333, 'x_198': 0.083333333, 'x_199': 0.083333333, 'x_200': 0.083333333, 'x_201': 0.083333333, 'x_202': 0.083333333, 'x_203': 0.083333333, 'x_204': 0.083333333, 'x_205': 0.083333333, 'x_206': 0.083333333, 'x_207': 0.083333333, 'x_208': 0.083333333, 'x_209': 0.083333333, 'x_210': 0.083333333, 'x_211': 0.083333333, 'x_212': 0.083333333, 'x_213': 0.083333333, 'x_214': 0.083333333, 'x_215': 0.083333333, 'x_216': 0.083333333, 'x_217': 0.083333333, 'x_218': 0.083333333, 'x_219': 0.083333333, 'x_220': 0.083333333, 'x_221': 0.083333333, 'x_222': 0.083333333, 'x_223': 0.083333333, 'x_224': 0.083333333, 'x_225': 0.083333333, 'x_226': 0.083333333, 'x_227': 0.083333333, 'x_228': 0.083333333, 'x_229': 0.083333333, 'x_230': 0.083333333, 'x_231': 0.083333333, 'x_232': 0.083333333, 'x_233': 0.083333333, 'x_234': 0.083333333, 'x_235': 0.083333333, 'x_236': 0.083333333, 'x_237': 0.083333333, 'x_238': 0.083333333, 'x_239': 0.083333333, 'x_240': 0.083333333, 'x_241': 0.083333333, 'x_242': 0.083333333, 'x_243': 0.083333333, 'x_244': 0.083333333, 'x_245': 0.083333333, 'x_246': 0.083333333, 'x_247': 0.05, 'x_248': 0.05, 'x_249': 0.05, 'x_250': 0.05, 'x_251': 0.05, 'x_252': 0.05, 'x_253': 0.05, 'x_254': 0.05, 'x_255': 0.05, 'x_256': 0.05, 'x_257': 0.05, 'x_258': 0.05, 'x_259': 0.05, 'x_260': 2560.0, 'x_261': 3840.0, 'x_262': 4800.0, 'x_263': 8000.0, 'x_264': 4800.0, 'x_265': 1792.0, 'x_266': 2688.0, 'x_267': 3360.0, 'x_268': 5600.0, 'x_269': 3360.0, 'x_270': 3840.0, 'x_271': 5760.0, 'x_272': 7200.0, 'x_273': 12000.0, 'x_274': 7200.0, 'x_275': 1960.0, 'x_276': 2940.0, 'x_277': 3675.0, 'x_278': 6125.0, 'x_279': 3675.0, 'x_280': 3240.0, 'x_281': 4860.0, 'x_282': 6075.0, 'x_283': 10125.0, 'x_284': 6075.0, 'x_285': 1792.0, 'x_286': 2688.0, 'x_287': 3360.0, 'x_288': 5600.0, 'x_289': 3360.0, 'x_290': 2560.0, 'x_291': 3840.0, 'x_292': 4800.0, 'x_293': 8000.0, 'x_294': 4800.0, 'x_295': 1392.0, 'x_296': 2088.0, 'x_297': 2610.0, 'x_298': 4350.0, 'x_299': 2610.0, 'x_300': 1960.0, 'x_301': 2940.0, 'x_302': 3675.0, 'x_303': 6125.0, 'x_304': 3675.0, 'x_305': 960.0, 'x_306': 1440.0, 'x_307': 1800.0, 'x_308': 3000.0, 'x_309': 1800.0, 'x_310': 1792.0, 'x_311': 2688.0, 'x_312': 3360.0, 'x_313': 5600.0, 'x_314': 3360.0, 'x_315': 1392.0, 'x_316': 2088.0, 'x_317': 2610.0, 'x_318': 4350.0, 'x_319': 2610.0, 'x_320': 3840.0, 'x_321': 5760.0, 'x_322': 7200.0, 'x_323': 12000.0, 'x_324': 7200.0}\n"
          ]
        }
      ]
    }
  ]
}